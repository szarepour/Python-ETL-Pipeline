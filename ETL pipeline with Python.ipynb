{
 "cells": [
  {
   "cell_type": "code",
   "execution_count": 3,
   "id": "aa0d54d8",
   "metadata": {},
   "outputs": [],
   "source": [
    "#import needed libraries\n",
    "import warnings\n",
    "warnings.filterwarnings('ignore')\n",
    "from sqlalchemy import create_engine\n",
    "import pyodbc\n",
    "import pandas as pd\n",
    "import os\n",
    "import psycopg2\n",
    "\n",
    "host= \"localhost:5432\"\n",
    "user= \"postgres\"\n",
    "password= \"zxc\"\n",
    "nombre_db= \"DB_Projects\"\n",
    "\n",
    "driver = \"{SQL Server}\"\n",
    "server = \"DESKTOP-7MLFO65\"\n",
    "database = \"PortfolioProjects\"\n"
   ]
  },
  {
   "cell_type": "code",
   "execution_count": 4,
   "id": "34ea249c",
   "metadata": {},
   "outputs": [
    {
     "name": "stdout",
     "output_type": "stream",
     "text": [
      "importing rows 0 to 85171... for table CovidDeaths\n",
      "Data imported successful\n",
      "importing rows 0 to 85171... for table CovidVaccinations\n",
      "Data imported successful\n"
     ]
    }
   ],
   "source": [
    "#extract data from sql server\n",
    "def extract():\n",
    "    try:\n",
    "        src_conn = pyodbc.connect('DRIVER=' + driver + ';SERVER=' + server + ';DATABASE=' + database + ';Trust_Connection=yes')\n",
    "        src_cursor = src_conn.cursor()\n",
    "        # execute query\n",
    "        src_cursor.execute(\"\"\" select  t.name as table_name\n",
    "        from sys.tables t where t.name in ('CovidVaccinations','CovidDeaths') \"\"\")\n",
    "        src_tables = src_cursor.fetchall()\n",
    "        for tbl in src_tables:\n",
    "            #query and load save data to dataframe\n",
    "            df = pd.read_sql_query(f'select * FROM {tbl[0]}', src_conn)\n",
    "            load(df, tbl[0])\n",
    "            print\n",
    "    except Exception as e:\n",
    "        print(\"Data extract error: \" + str(e))\n",
    "    finally:\n",
    "        src_conn.close()\n",
    "\n",
    "#load data to postgres\n",
    "def load(df, tbl):\n",
    "    try:\n",
    "        rows_imported = 0\n",
    "        url = f\"postgresql://{user}:{password}@{host}/{nombre_db}\"\n",
    "        engine =create_engine(url)\n",
    "        print(f'importing rows {rows_imported} to {rows_imported + len(df)}... for table {tbl}')\n",
    "        # save df to postgres\n",
    "        df.to_sql(f'stg_{tbl}', engine, if_exists='replace', index=False)\n",
    "        rows_imported += len(df)\n",
    "        # add elapsed time to final print out\n",
    "        print(\"Data imported successful\")\n",
    "    except Exception as e:\n",
    "        print(\"Data load error: \" + str(e))\n",
    "\n",
    "try:\n",
    "    #call extract function\n",
    "    extract()\n",
    "except Exception as e:\n",
    "    print(\"Error while extracting data: \" + str(e))"
   ]
  },
  {
   "cell_type": "code",
   "execution_count": null,
   "id": "b5bdc8a7",
   "metadata": {},
   "outputs": [],
   "source": []
  }
 ],
 "metadata": {
  "kernelspec": {
   "display_name": "Python 3 (ipykernel)",
   "language": "python",
   "name": "python3"
  },
  "language_info": {
   "codemirror_mode": {
    "name": "ipython",
    "version": 3
   },
   "file_extension": ".py",
   "mimetype": "text/x-python",
   "name": "python",
   "nbconvert_exporter": "python",
   "pygments_lexer": "ipython3",
   "version": "3.9.13"
  }
 },
 "nbformat": 4,
 "nbformat_minor": 5
}
